{
 "cells": [
  {
   "cell_type": "markdown",
   "metadata": {},
   "source": [
    "## Import Packages"
   ]
  },
  {
   "cell_type": "code",
   "execution_count": 1,
   "metadata": {},
   "outputs": [],
   "source": [
    "import pandas as pd\n",
    "import numpy as np"
   ]
  },
  {
   "cell_type": "markdown",
   "metadata": {},
   "source": [
    "## Import Data and prepare data"
   ]
  },
  {
   "cell_type": "code",
   "execution_count": 13,
   "metadata": {},
   "outputs": [
    {
     "name": "stdout",
     "output_type": "stream",
     "text": [
      "              energy  materials  industrials   condisc        it  financials  \\\n",
      "date                                                                           \n",
      "1973-02-01 -0.037876   0.008030     0.009140 -0.008433 -0.020299    0.065328   \n",
      "1973-03-01  0.036912   0.028578    -0.000215 -0.014238 -0.009986   -0.021737   \n",
      "1973-04-01  0.045699  -0.012418    -0.020137  0.001772 -0.005158   -0.041807   \n",
      "1973-05-01 -0.008219   0.002588     0.014614 -0.008279 -0.016681    0.004334   \n",
      "1973-06-01  0.022831  -0.003215    -0.002445 -0.007234  0.002996    0.023299   \n",
      "...              ...        ...          ...       ...       ...         ...   \n",
      "2022-09-01  0.000915   0.012892    -0.008601 -0.002618 -0.028263    0.014258   \n",
      "2022-10-01  0.119707  -0.013322     0.037646 -0.065047  0.009404    0.017651   \n",
      "2022-11-01 -0.041313   0.062447     0.014885 -0.004790 -0.004861    0.009572   \n",
      "2022-12-01  0.003618   0.012660     0.018759 -0.031327 -0.039224    0.015212   \n",
      "2023-01-01 -0.041629   0.027462    -0.014525  0.069308  0.032753    0.007637   \n",
      "\n",
      "            constaples  commserv  healthcare  utilities  \n",
      "date                                                     \n",
      "1973-02-01    0.007047 -0.047220    0.001129   0.007840  \n",
      "1973-03-01   -0.007088  0.021467    0.002302  -0.027742  \n",
      "1973-04-01    0.001952  0.070447    0.011157   0.017349  \n",
      "1973-05-01   -0.010499 -0.003165    0.002763   0.005900  \n",
      "1973-06-01   -0.011344  0.011193   -0.007587  -0.018431  \n",
      "...                ...       ...         ...        ...  \n",
      "2022-09-01    0.020645 -0.027575    0.053125  -0.018587  \n",
      "2022-10-01   -0.012585 -0.069665    0.021388  -0.037631  \n",
      "2022-11-01   -0.000772  0.004412   -0.020070   0.001192  \n",
      "2022-12-01    0.025061 -0.005537    0.028231   0.039539  \n",
      "2023-01-01   -0.058284  0.059679   -0.075965  -0.073153  \n",
      "\n",
      "[600 rows x 10 columns]\n",
      "            inflation_rate\n",
      "date                      \n",
      "1973-02-01        3.864734\n",
      "1973-03-01        4.830918\n",
      "1973-04-01        5.301205\n",
      "1973-05-01        5.528846\n",
      "1973-06-01        5.995204\n",
      "...                    ...\n",
      "2022-09-01        8.214854\n",
      "2022-10-01        7.762493\n",
      "2022-11-01        7.135348\n",
      "2022-12-01        6.444940\n",
      "2023-01-01        6.347156\n",
      "\n",
      "[600 rows x 1 columns]\n"
     ]
    }
   ],
   "source": [
    "# Just remember to replace the file paths for the paths in your computer\n",
    "\n",
    "# get inflation rate data\n",
    "data_inf = pd.read_csv(r\"D:\\Work\\Random Work\\miro_inf_data.csv\")\n",
    "\n",
    "\n",
    "# get sector returns data\n",
    "data_sectors = pd.read_csv(r\"D:\\Work\\Random Work\\miro_sector_data.csv\")\n",
    "\n",
    "\n",
    "# get benchmark returns data\n",
    "data_bench = pd.read_csv(r\"D:\\Work\\Random Work\\miro_benchmark_data.csv\")\n",
    "\n",
    "\n",
    "# set date column as index for both dataframes\n",
    "data_sectors.set_index('date', inplace=True)\n",
    "data_bench.set_index('date', inplace=True)\n",
    "data_inf.set_index('date', inplace=True)\n",
    "\n",
    "# set indeces as date_time \n",
    "data_inf['date'] = pd.to_datetime(data_inf['date'] )\n",
    "data_sectors['date'] = pd.to_datetime(data_sectors['date'] )\n",
    "data_bench['date'] = pd.to_datetime(data_bench['date'] )\n",
    "\n",
    "# calculate excess returns vs benchmark\n",
    "data_sectors_xsret = data_sectors.subtract(data_bench['benchmark'], axis=0)\n",
    "\n",
    "# print to double check\n",
    "print(data_sectors_xsret)\n",
    "print(data_inf)\n",
    "\n"
   ]
  },
  {
   "cell_type": "markdown",
   "metadata": {},
   "source": [
    "## Divide inflation into quartiles"
   ]
  },
  {
   "cell_type": "code",
   "execution_count": 14,
   "metadata": {},
   "outputs": [
    {
     "name": "stdout",
     "output_type": "stream",
     "text": [
      "            inflation_rate inflation_regime\n",
      "date                                       \n",
      "1973-02-01        3.864734     3rd quartile\n",
      "1973-03-01        4.830918     3rd quartile\n",
      "1973-04-01        5.301205     4th quartile\n",
      "1973-05-01        5.528846     4th quartile\n",
      "1973-06-01        5.995204     4th quartile\n",
      "...                    ...              ...\n",
      "2022-09-01        8.214854     4th quartile\n",
      "2022-10-01        7.762493     4th quartile\n",
      "2022-11-01        7.135348     4th quartile\n",
      "2022-12-01        6.444940     4th quartile\n",
      "2023-01-01        6.347156     4th quartile\n",
      "\n",
      "[600 rows x 2 columns]\n"
     ]
    }
   ],
   "source": [
    "# calculate quartile cutoffs\n",
    "q1_cutoff = data_inf['inflation_rate'].quantile(0.25)\n",
    "q2_cutoff = data_inf['inflation_rate'].quantile(0.5)\n",
    "q3_cutoff = data_inf['inflation_rate'].quantile(0.75)\n",
    "\n",
    "# create function to classify periods into quartiles\n",
    "def classify_inflation(row):\n",
    "    if row['inflation_rate'] <= q1_cutoff:\n",
    "        return '1st quartile'\n",
    "    elif row['inflation_rate'] <= q2_cutoff:\n",
    "        return '2nd quartile'\n",
    "    elif row['inflation_rate'] <= q3_cutoff:\n",
    "        return '3rd quartile'\n",
    "    else:\n",
    "        return '4th quartile'\n",
    "\n",
    "# apply function to create new column with quartile classification\n",
    "data_inf['inflation_regime'] = data_inf.apply(classify_inflation, axis=1)\n",
    "\n",
    "# print to check\n",
    "print(data_inf)"
   ]
  },
  {
   "cell_type": "markdown",
   "metadata": {},
   "source": [
    "## Calculate average returns by inflation regime"
   ]
  },
  {
   "cell_type": "code",
   "execution_count": 25,
   "metadata": {},
   "outputs": [
    {
     "name": "stdout",
     "output_type": "stream",
     "text": [
      "                    energy  materials  industrials   condisc        it  \\\n",
      "inflation_regime                                                         \n",
      "1st quartile     -0.057927   0.003930    -0.016538  0.033005  0.053479   \n",
      "2nd quartile      0.031052  -0.003958    -0.005473 -0.009037  0.069646   \n",
      "3rd quartile      0.026327   0.029855     0.000124 -0.013674 -0.051806   \n",
      "4th quartile      0.060178  -0.023060     0.013429 -0.021619  0.004192   \n",
      "\n",
      "                  financials  constaples  commserv  healthcare  utilities  \\\n",
      "inflation_regime                                                            \n",
      "1st quartile        0.001124   -0.026377  0.007374   -0.007314  -0.037712   \n",
      "2nd quartile       -0.020617   -0.010268  0.013461    0.022860  -0.040323   \n",
      "3rd quartile        0.028704    0.046337 -0.050462    0.029489   0.047405   \n",
      "4th quartile       -0.001138   -0.008956  0.001744    0.026203   0.023740   \n",
      "\n",
      "                  inflation_rate  \n",
      "inflation_regime                  \n",
      "1st quartile           14.782936  \n",
      "2nd quartile           30.831958  \n",
      "3rd quartile           46.469464  \n",
      "4th quartile          100.659873  \n"
     ]
    }
   ],
   "source": [
    "# merge inflation and sector returns dataframes\n",
    "merged_data = pd.merge(left=data_sectors_xsret,right=data_inf, left_index=True, right_index=True)\n",
    "\n",
    "\n",
    "# group returns by sector and inflation regime and calculate mean return for each group\n",
    "grouped_data= merged_data.groupby(['inflation_regime']).mean().drop(columns=['inflation_rate'])\n",
    "\n",
    "\n",
    "# group data by inflation regime and calculate annualized mean for each sector\n",
    "sector_returns_by_regime = merged_data.groupby('inflation_regime').mean() * 12\n",
    "\n",
    "# print results\n",
    "print(sector_returns_by_regime)"
   ]
  },
  {
   "cell_type": "code",
   "execution_count": null,
   "metadata": {},
   "outputs": [],
   "source": []
  }
 ],
 "metadata": {
  "kernelspec": {
   "display_name": "Python 3",
   "language": "python",
   "name": "python3"
  },
  "language_info": {
   "codemirror_mode": {
    "name": "ipython",
    "version": 3
   },
   "file_extension": ".py",
   "mimetype": "text/x-python",
   "name": "python",
   "nbconvert_exporter": "python",
   "pygments_lexer": "ipython3",
   "version": "3.7.6"
  }
 },
 "nbformat": 4,
 "nbformat_minor": 4
}
